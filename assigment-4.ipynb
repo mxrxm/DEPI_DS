{
 "cells": [
  {
   "cell_type": "code",
   "execution_count": 1,
   "id": "423b2658",
   "metadata": {},
   "outputs": [],
   "source": [
    "from bs4 import BeautifulSoup\n",
    "import requests\n",
    "import pandas as pd"
   ]
  },
  {
   "cell_type": "code",
   "execution_count": 2,
   "id": "70e0218a",
   "metadata": {},
   "outputs": [],
   "source": [
    "url=\"https://cf-courses-data.s3.us.cloud-object-storage.appdomain.cloud/IBMDeveloperSkillsNetwork-PY0220EN-SkillsNetwork/labs/project/amazon_data_webpage.html\"\n"
   ]
  },
  {
   "cell_type": "code",
   "execution_count": 3,
   "id": "4d6a722e",
   "metadata": {},
   "outputs": [],
   "source": [
    "html_data=requests.get(url).text"
   ]
  },
  {
   "cell_type": "code",
   "execution_count": 4,
   "id": "afda1145",
   "metadata": {},
   "outputs": [],
   "source": [
    "soup=BeautifulSoup(html_data,\"html.parser\")"
   ]
  },
  {
   "cell_type": "code",
   "execution_count": 5,
   "id": "2dad79e0",
   "metadata": {},
   "outputs": [
    {
     "name": "stdout",
     "output_type": "stream",
     "text": [
      "<title>\n",
      " Amazon.com, Inc. (AMZN) Stock Historical Prices &amp; Data - Yahoo Finance\n",
      "</title>\n",
      "\n"
     ]
    }
   ],
   "source": [
    "tag_title=soup.title\n",
    "print(tag_title.prettify())"
   ]
  },
  {
   "cell_type": "code",
   "execution_count": 9,
   "id": "fde8e0aa",
   "metadata": {},
   "outputs": [],
   "source": [
    "data = []\n",
    "\n",
    "tbody = soup.find(\"tbody\")\n",
    "if tbody:\n",
    "    for row in tbody.find_all(\"tr\"):\n",
    "        col = row.find_all(\"td\")\n",
    "        if len(col) == 7:  # Ensure the row has the expected number of columns\n",
    "            date = col[0].text.strip()\n",
    "            Open = col[1].text.strip()\n",
    "            high = col[2].text.strip()\n",
    "            low = col[3].text.strip()\n",
    "            close = col[4].text.strip()\n",
    "            adj_close = col[5].text.strip()\n",
    "            volume = col[6].text.strip()\n",
    "            \n",
    "            data.append({\"Date\": date, \"Open\": Open, \"High\": high, \"Low\": low, \"Close\": close, \"Adj Close\": adj_close, \"Volume\": volume})\n",
    "    \n",
    "    amazon_data = pd.DataFrame(data)\n"
   ]
  },
  {
   "cell_type": "code",
   "execution_count": 11,
   "id": "032bfa47",
   "metadata": {},
   "outputs": [
    {
     "name": "stdout",
     "output_type": "stream",
     "text": [
      "           Date      Open      High       Low     Close Adj Close       Volume\n",
      "0  Jan 01, 2021  3,270.00  3,363.89  3,086.00  3,206.20  3,206.20   71,528,900\n",
      "1  Dec 01, 2020  3,188.50  3,350.65  3,072.82  3,256.93  3,256.93   77,556,200\n",
      "2  Nov 01, 2020  3,061.74  3,366.80  2,950.12  3,168.04  3,168.04   90,810,500\n",
      "3  Oct 01, 2020  3,208.00  3,496.24  3,019.00  3,036.15  3,036.15  116,226,100\n",
      "4  Sep 01, 2020  3,489.58  3,552.25  2,871.00  3,148.73  3,148.73  115,899,300\n"
     ]
    }
   ],
   "source": [
    "\n",
    " print(amazon_data.head())"
   ]
  },
  {
   "cell_type": "code",
   "execution_count": 12,
   "id": "1dc61e8d",
   "metadata": {},
   "outputs": [
    {
     "name": "stdout",
     "output_type": "stream",
     "text": [
      "Index(['Date', 'Open', 'High', 'Low', 'Close', 'Adj Close', 'Volume'], dtype='object')\n"
     ]
    }
   ],
   "source": [
    "print(amazon_data.columns)\n"
   ]
  },
  {
   "cell_type": "code",
   "execution_count": 13,
   "id": "a0cd296e",
   "metadata": {},
   "outputs": [
    {
     "name": "stdout",
     "output_type": "stream",
     "text": [
      "The 'Open' value of the last row is: 656.29\n"
     ]
    }
   ],
   "source": [
    "last_open = amazon_data.iloc[-1][\"Open\"]\n",
    "print(f\"The 'Open' value of the last row is: {last_open}\")\n"
   ]
  },
  {
   "cell_type": "code",
   "execution_count": null,
   "id": "5b51dd79",
   "metadata": {},
   "outputs": [],
   "source": []
  }
 ],
 "metadata": {
  "kernelspec": {
   "display_name": "Python 3 (ipykernel)",
   "language": "python",
   "name": "python3"
  },
  "language_info": {
   "codemirror_mode": {
    "name": "ipython",
    "version": 3
   },
   "file_extension": ".py",
   "mimetype": "text/x-python",
   "name": "python",
   "nbconvert_exporter": "python",
   "pygments_lexer": "ipython3",
   "version": "3.11.3"
  }
 },
 "nbformat": 4,
 "nbformat_minor": 5
}
